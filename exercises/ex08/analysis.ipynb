{
 "cells": [
  {
   "cell_type": "markdown",
   "metadata": {},
   "source": [
    "# Analysis for Continuous Improvement\n",
    "\n",
    "Author Name: Nicole Mares\n",
    "\n",
    "9-digit PID: 730391824\n",
    "\n",
    "Continuous Improvement embraces a belief there is _always room to make things better_. It is a mindset and process we value and practice in this course. In this assignment, you are able to practice continuous improvement and contribute to the design ideas of the course.\n",
    "\n",
    "## Brainstorming Ideas\n",
    "\n",
    "Reflect on your personal experiences and observations in COMP110 and **brainstorm modifications to the course that _create value_ beyond its current design**. When brainstorming, try not to be critical of the ideas you come up with regarding scale, stakeholders impacted, or for any other reasons. In the markdown cell below, brainstorm 3 to 5 ideas you think would create value for you.\n",
    "\n",
    "Each brainstormed idea should state a. the suggested change or addition, b. what the expected value created, and c. which specific stakeholders would benefit.  If helpful, expand on the following template \"The course should (state idea here) because it will (state value created here) for (insert stakeholders here).\"\n",
    "\n",
    "Example A: \"The course should use only examples from psychology experiments because it will be more relevant for students who are psychology majors.\"\n",
    "\n",
    "Example B: \"The course should not have post-lesson questions because they are not useful for most students in the class.\""
   ]
  },
  {
   "cell_type": "markdown",
   "metadata": {},
   "source": [
    "### Part 1. Creative Ideation\n",
    "\n",
    "1. The course should implement the use of languages besides just python becuase while python is the usually the default for many purely computer science careers, python is not the default language for many careers and a significant portion of the class is not a comp sci major, and/or have background knowledge of other languages.\n",
    "2. The course should not require students to wait at least an hour between office hour appointments, becuase on average students who go to office hours will visit office hours more than once for one programaming or project assignment. \n",
    "3. The course should encourage students to do lessons together to further understanding by hosting a tutoring session during ususal class time on asynchronus days where students can go and do the lesson together as a group, as most students who have gone to tuttoring have found it effective and this would be a time that no one should have other engaggements.\n",
    "4. The course should require students to have pervious coding experience, becuase students with previous experience are most sucessful. \n",
    "5. The course should utilize more examples and exercises associated with health or business based data science as many students are not computer science majors and would ahve more interest in the class if examples pretained to their interests as well. "
   ]
  },
  {
   "cell_type": "markdown",
   "metadata": {},
   "source": [
    "## Connecting with Available Data\n",
    "\n",
    "The data you have available for this analysis is limited to the anonymized course survey you and your peers filled out a few weeks ago. The data is found in the `survey.csv` file in this exercise directory. Each row represents an individual survey response. Each column has a description which can be found on the project write-up here: <https://22s.comp110.com/exercises/ex08.html>\n",
    "\n",
    "Review the list of available data and identify which one of your ideas _does not_, or is _least likely to_, have relevant data to support the analysis of your idea to create value. In the box below, identify which of your ideas lacks data and suggest how we might be able to collect this data in the future. One aspect of _continuous improvement_ is trying to avoid \"tunnel vision\" where possible improvements are not considered because there is no data available to analyze it. Identifying new data sources can unlock improvements!"
   ]
  },
  {
   "cell_type": "markdown",
   "metadata": {},
   "source": [
    "### Part 2. Identifying Missing Data\n",
    "\n",
    "1. Idea without sufficient data to analyze: The course should require students to have pervious coding experience, becuase students with previous experience are most sucessful. This idea does not have signficant data because none of the data collected had to do with current success within the class. \n",
    "\n",
    "2. Suggestion for how to collect data to support this idea in the future: In the future asking pollers what their current letter grade is at the time of the poll, and what letter grade they believe they will end the class with. That way we can comapre success levels between groups of students. "
   ]
  },
  {
   "cell_type": "markdown",
   "metadata": {},
   "source": [
    "## Choosing an Idea to Analyze\n",
    "\n",
    "Consider those of your ideas which _do_ seem likely to have relevant data to analyze. If none of your ideas do, spend a few minutes and brainstorm another idea or two with the added connection of data available on hand and add those ideas to your brainstormed ideas list.\n",
    "\n",
    "Select the one idea which you believe is _most valuable_ to analyze relative to the others and has data to support the analysis of. In the markdown cell for Part 3 below, identify the idea you are exploring and articulate why you believe it is most valuable (e.g. widest impact, biggest opportunity for improvement, simplest change for significant improvement, and so on)."
   ]
  },
  {
   "cell_type": "markdown",
   "metadata": {},
   "source": [
    "### Part 3. Choosing Your Analysis\n",
    "\n",
    "1. Idea to analyze with available data: The course should utilize more examples and exercises associated with health or business based data science as many students are not computer science majors and would ahve more interest in the class if examples pretained to their interests as well. \n",
    "\n",
    "2. This idea is more valuable than the others brainstormed because: I am not a computer science major and while some of the exerises have been of interest to me I have yet to have an exercise that is super relevant to what I will be doing with computer science in the future other than an understadning of the functions needed and such. I beleieve that students would be more interested in this class if more assignments pertained to their future careers, many of which are not computer science. \n"
   ]
  },
  {
   "cell_type": "markdown",
   "metadata": {},
   "source": [
    "## Your Analysis\n",
    "\n",
    "Before you begin analysis, a reminder that we do not expect the data to support everyone's ideas and you can complete this exercise for full credit even if the data does not clearly support your suggestion or even completely refutes it. What we are looking for is a logical attempt to explore the data using the techniques you have learned up until now in a way that _either_ supports, refutes, or does not have a clear result and then to reflect on your findings after the analysis.\n",
    "\n",
    "Using the utility functions you created for the previous exercise, you will continue with your analysis in the following part. Before you begin, refer to the rubric on the technical expectations of this section in the exercise write-up.\n",
    "\n",
    "In this section, you are expected to interleave code and markdown cells such that for each step of your analysis you are starting with an English description of what you are planning to do next in a markdown cell, followed by a Python cell that performs that step of the analysis."
   ]
  },
  {
   "cell_type": "markdown",
   "metadata": {},
   "source": [
    "### Part 4. Analysis\n",
    "\n",
    "We begin by changing some settings in the notebook to automatically reload changes to imported files."
   ]
  },
  {
   "cell_type": "code",
   "execution_count": 55,
   "metadata": {},
   "outputs": [],
   "source": [
    "%reload_ext autoreload\n",
    "%autoreload 2"
   ]
  },
  {
   "cell_type": "markdown",
   "metadata": {},
   "source": [
    "We continue by importing the helper functions from `data_utils`."
   ]
  },
  {
   "cell_type": "code",
   "execution_count": 56,
   "metadata": {},
   "outputs": [],
   "source": [
    "# TODO: You complete the code blocks from here forward!\n"
   ]
  },
  {
   "cell_type": "markdown",
   "metadata": {},
   "source": [
    "Next, ... (you take it from here and add additional code and markdown cells to read in the CSV file and process it as needed)"
   ]
  },
  {
   "cell_type": "code",
   "execution_count": 57,
   "metadata": {},
   "outputs": [],
   "source": [
    "SURVEY_DATA_CSV_FILE_PATH: str = \"../../data/survey.csv\""
   ]
  },
  {
   "cell_type": "code",
   "execution_count": 58,
   "metadata": {},
   "outputs": [],
   "source": [
    "from data_utils import read_csv_rows\n",
    "data_rows: list[dict[str, str]] = read_csv_rows(SURVEY_DATA_CSV_FILE_PATH)\n",
    "\n",
    "if len(data_rows) == 0:\n",
    "    print(\"Go implement read_csv_rows in data_utils.py\")\n",
    "    print(\"Be sure to save your work before re-evaluating this cell!\")"
   ]
  },
  {
   "cell_type": "code",
   "execution_count": 59,
   "metadata": {},
   "outputs": [],
   "source": [
    "from data_utils import columnar\n",
    "\n",
    "data_columns: dict[str, list[str]] = columnar(data_rows)"
   ]
  },
  {
   "cell_type": "code",
   "execution_count": 60,
   "metadata": {},
   "outputs": [
    {
     "data": {
      "text/html": [
       "<table>\n",
       "<thead>\n",
       "<tr><th>primary_major   </th><th style=\"text-align: right;\">  interesting</th></tr>\n",
       "</thead>\n",
       "<tbody>\n",
       "<tr><td>Mathematics     </td><td style=\"text-align: right;\">            5</td></tr>\n",
       "<tr><td>Mathematics     </td><td style=\"text-align: right;\">            4</td></tr>\n",
       "<tr><td>Computer Science</td><td style=\"text-align: right;\">            7</td></tr>\n",
       "<tr><td>Computer Science</td><td style=\"text-align: right;\">            6</td></tr>\n",
       "<tr><td>Computer Science</td><td style=\"text-align: right;\">            6</td></tr>\n",
       "<tr><td>Computer Science</td><td style=\"text-align: right;\">            7</td></tr>\n",
       "<tr><td>Computer Science</td><td style=\"text-align: right;\">            7</td></tr>\n",
       "<tr><td>Neuroscience    </td><td style=\"text-align: right;\">            7</td></tr>\n",
       "<tr><td>Computer Science</td><td style=\"text-align: right;\">            7</td></tr>\n",
       "<tr><td>Neuroscience    </td><td style=\"text-align: right;\">            7</td></tr>\n",
       "</tbody>\n",
       "</table>"
      ],
      "text/plain": [
       "'<table>\\n<thead>\\n<tr><th>primary_major   </th><th style=\"text-align: right;\">  interesting</th></tr>\\n</thead>\\n<tbody>\\n<tr><td>Mathematics     </td><td style=\"text-align: right;\">            5</td></tr>\\n<tr><td>Mathematics     </td><td style=\"text-align: right;\">            4</td></tr>\\n<tr><td>Computer Science</td><td style=\"text-align: right;\">            7</td></tr>\\n<tr><td>Computer Science</td><td style=\"text-align: right;\">            6</td></tr>\\n<tr><td>Computer Science</td><td style=\"text-align: right;\">            6</td></tr>\\n<tr><td>Computer Science</td><td style=\"text-align: right;\">            7</td></tr>\\n<tr><td>Computer Science</td><td style=\"text-align: right;\">            7</td></tr>\\n<tr><td>Neuroscience    </td><td style=\"text-align: right;\">            7</td></tr>\\n<tr><td>Computer Science</td><td style=\"text-align: right;\">            7</td></tr>\\n<tr><td>Neuroscience    </td><td style=\"text-align: right;\">            7</td></tr>\\n</tbody>\\n</table>'"
      ]
     },
     "execution_count": 60,
     "metadata": {},
     "output_type": "execute_result"
    }
   ],
   "source": [
    "from data_utils import select\n",
    "from tabulate import tabulate\n",
    "from data_utils import head\n",
    "\n",
    "selected_data: dict[str, list[str]] = select(data_columns, [\"primary_major\", \"interesting\"])\n",
    "\n",
    "tabulate(head(selected_data, 10), selected_data.keys(), \"html\")\n"
   ]
  },
  {
   "cell_type": "code",
   "execution_count": 61,
   "metadata": {},
   "outputs": [
    {
     "name": "stdout",
     "output_type": "stream",
     "text": [
      "interesitng_counts: {'5': 106, '4': 47, '7': 293, '6': 144, '1': 7, '3': 16, '2': 7}\n",
      "_counts: {'Mathematics': 10, 'Computer Science': 223, 'Neuroscience': 55, 'Psychology': 70, 'Environmental Science/Studies': 17, 'Economics': 50, 'Media and Journalism': 6, 'Exercise and Sports Science': 3, 'Biology': 60, 'Undecided': 4, 'Asian Studies': 3, 'Information Science': 16, 'Chemistry': 4, 'Communication': 2, 'Political Science': 7, 'Statistics and Analytics': 29, 'Business': 35, 'Advertising and PR': 1, 'English': 1, 'Radiology': 1, 'Linguistics': 1, 'HPM': 1, 'Physics': 2, 'Nursing': 2, 'Peace, War, and Defense': 1, 'Philosophy': 3, 'Clinical Lab Science': 1, 'Music Preformance': 1, 'Medical Anthropology': 2, 'Interdisciplinary Studies': 1, 'Geology': 1, 'Cultural Anthropology': 1, 'Sports Administration': 1, 'Earth Science': 1, 'Studio Art': 1, 'Communications': 2, 'Nutrition': 1}\n"
     ]
    }
   ],
   "source": [
    "from data_utils import count\n",
    "from tabulate import tabulate\n",
    "from data_utils import head\n",
    "\n",
    "interesting_counts: dict[str, int] = count(selected_data[\"interesting\"])\n",
    "print(f\"interesitng_counts: {interesting_counts}\")\n",
    "\n",
    "major_counts: dict[str, int] = count(selected_data[\"primary_major\"])\n",
    "print(f\"_counts: {major_counts}\")"
   ]
  },
  {
   "cell_type": "code",
   "execution_count": 67,
   "metadata": {},
   "outputs": [
    {
     "name": "stdout",
     "output_type": "stream",
     "text": [
      "223 of the 620 who took the COMP110 survey are computer science majors.\n"
     ]
    }
   ],
   "source": [
    "total_students: int = len(selected_data[\"primary_major\"])\n",
    "\n",
    "print(f\"223 of the {total_students} who took the COMP110 survey are computer science majors.\")"
   ]
  },
  {
   "cell_type": "code",
   "execution_count": 63,
   "metadata": {},
   "outputs": [
    {
     "name": "stdout",
     "output_type": "stream",
     "text": [
      "[7, 6, 6, 7, 7, 7, 7, 7, 6, 7, 7, 7, 7, 7, 7, 7, 6, 1, 7, 6, 4, 7, 7, 7, 7, 6, 6, 5, 7, 7, 7, 4, 7, 7, 3, 6, 6, 5, 6, 7, 6, 6, 5, 7, 7, 7, 7, 7, 5, 5, 6, 7, 6, 6, 7, 7, 7, 4, 6, 6, 5, 7, 6, 7, 7, 6, 7, 7, 7, 7, 7, 7, 6, 7, 7, 6, 7, 7, 7, 5, 7, 7, 7, 7, 6, 7, 6, 7, 7, 5, 6, 7, 2, 7, 6, 6, 7, 7, 7, 7, 7, 6, 6, 7, 7, 7, 7, 7, 7, 7, 7, 7, 5, 7, 7, 7, 7, 5, 7, 6, 7, 6, 7, 7, 5, 7, 7, 7, 7, 5, 5, 7, 7, 6, 7, 5, 5, 6, 7, 6, 6, 7, 6, 7, 7, 6, 7, 7, 6, 7, 7, 5, 5, 7, 7, 7, 6, 7, 7, 5, 5, 7, 7, 7, 7, 6, 5, 7, 7, 7, 7, 7, 7, 5, 7, 7, 7, 7, 7, 7, 7, 6, 7, 6, 3, 7, 7, 7, 6, 7, 5, 7, 5, 7, 6, 7, 7, 4, 4, 7, 7, 7, 5, 6, 7, 7, 6, 4, 7, 6, 7, 6, 7, 6, 7, 7, 7, 7, 6, 7, 7, 6, 6]\n"
     ]
    }
   ],
   "source": [
    "from data_utils import select_rows\n",
    "\n",
    "interesting_comp: list[int] = select_rows(selected_data, \"primary_major\", \"interesting\", \"Computer Science\")\n",
    "\n",
    "print(interesting_comp)"
   ]
  },
  {
   "cell_type": "code",
   "execution_count": 64,
   "metadata": {},
   "outputs": [
    {
     "name": "stdout",
     "output_type": "stream",
     "text": [
      "[5, 4, 7, 7, 6, 4, 7, 6, 7, 5, 7, 6, 6, 6, 5, 6, 7, 6, 6, 5, 6, 5, 6, 7, 7, 5, 7, 7, 4, 5, 7, 7, 5, 5, 7, 6, 4, 7, 6, 7, 6, 7, 6, 4, 7, 5, 6, 4, 6, 6, 7, 4, 6, 6, 5, 7, 5, 5, 6, 5, 5, 1, 7, 7, 5, 7, 7, 7, 7, 7, 7, 6, 6, 6, 3, 5, 7, 7, 7, 5, 7, 6, 7, 5, 4, 5, 7, 7, 5, 7, 7, 7, 5, 7, 7, 6, 5, 7, 4, 6, 6, 7, 7, 7, 5, 5, 3, 4, 7, 5, 7, 6, 7, 4, 6, 7, 4, 7, 6, 5, 7, 7, 6, 7, 7, 7, 6, 4, 7, 7, 7, 1, 7, 7, 6, 7, 5, 3, 6, 3, 7, 6, 4, 2, 5, 7, 3, 7, 7, 5, 7, 7, 7, 6, 7, 6, 3, 5, 4, 6, 6, 7, 7, 7, 6, 6, 7, 7, 6, 7, 5, 7, 7, 3, 5, 3, 5, 4, 7, 5, 6, 6, 5, 7, 5, 7, 7, 5, 6, 5, 6, 7, 6, 7, 6, 5, 6, 7, 7, 7, 7, 6, 4, 7, 5, 4, 5, 7, 6, 6, 5, 5, 7, 4, 5, 2, 7, 4, 7, 7, 7, 6, 5, 6, 6, 7, 4, 7, 7, 5, 4, 6, 6, 7, 7, 5, 3, 7, 5, 7, 4, 5, 5, 4, 7, 6, 4, 5, 7, 5, 7, 5, 5, 6, 1, 6, 7, 6, 4, 7, 7, 7, 6, 7, 4, 6, 7, 2, 6, 7, 7, 6, 7, 4, 6, 7, 7, 4, 7, 5, 7, 7, 7, 6, 7, 2, 4, 5, 7, 5, 3, 2, 6, 6, 7, 5, 6, 4, 6, 4, 6, 5, 3, 7, 6, 6, 5, 5, 7, 7, 6, 6, 7, 6, 5, 6, 7, 7, 7, 7, 7, 5, 5, 4, 7, 3, 5, 6, 6, 5, 5, 5, 4, 5, 5, 5, 7, 5, 4, 7, 4, 7, 6, 7, 2, 6, 7, 7, 3, 5, 1, 6, 4, 6, 7, 5, 6, 5, 1, 4, 5, 6, 7, 6, 7, 5, 7, 5, 6, 4, 7, 7, 4, 6, 3, 7, 7, 5, 7, 7, 6, 7, 7, 5, 6, 6, 5, 7, 4, 7, 6, 7, 7, 7, 7, 7, 1]\n"
     ]
    }
   ],
   "source": [
    "from data_utils import select_other_rows\n",
    "\n",
    "interesting_other: list[int] = select_other_rows(selected_data, \"primary_major\", \"interesting\", \"Computer Science\")\n",
    "\n",
    "print(interesting_other)"
   ]
  },
  {
   "cell_type": "code",
   "execution_count": 65,
   "metadata": {},
   "outputs": [
    {
     "name": "stdout",
     "output_type": "stream",
     "text": [
      "The average interest level for comp sci majors was: 6\n",
      "The average interest level for any NOT comp sci majors was: 5\n"
     ]
    }
   ],
   "source": [
    "from data_utils import average\n",
    "\n",
    "average_interest_comp: float = average(interesting_comp)\n",
    "average_interest_other: float = average(interesting_other)\n",
    "\n",
    "print(f\"The average interest level for comp sci majors was: {average_interest_comp}\")\n",
    "print(f\"The average interest level for any NOT comp sci majors was: {average_interest_other}\")"
   ]
  },
  {
   "cell_type": "markdown",
   "metadata": {},
   "source": [
    "## Conclusion\n",
    "\n",
    "In the following markdown cell, write a reflective conclusion given the analysis you performed and identify recommendations.\n",
    "\n",
    "If your analysis of the data supports your idea, state your recommendation for the change and summarize the data analysys results you found which support it. Additionally, describe any extensions or refinements to this idea which might be explored further. Finally, discuss the potential costs, trade-offs, or stakeholders who may be negatively impacted by this proposed change.\n",
    "\n",
    "If your analysis of the data is inconclusive, summarize why your data analysis results were inconclusive in the support of your idea. Additionally, describe what experimental idea implementation or additional data collection might help build more confidence in assessing your idea. Finally, discuss the potential costs, trade-offs, or stakeholders who may be negatively impacted by experimenting with your idea.\n",
    "\n",
    "Finally, if your analysis of the data does not support it, summarize your data analysis results and why it refutes your idea. Discuss the potential costs, trade-offs, or stakeholders who may be negatively impacted by this proposed change. If you disagree with the validity of the findings, describe why your idea still makes sense to implement and what alternative data would better support it. If you agree with the validity of the data analysis, describe what alternate ideas or extensions you would explore instead. "
   ]
  },
  {
   "cell_type": "markdown",
   "metadata": {},
   "source": [
    "### Part 5. Conclusion\n",
    "\n"
   ]
  },
  {
   "cell_type": "markdown",
   "metadata": {},
   "source": [
    "The analysis of data supports my reccommendation, but not very strongly. On average Computer Science majors ranked COMP110 as one point higher on a scale of one to ten for how interesting the class was. I still reccommend that this class utilize examples and exercises in this class to have more connection with ways coding is used outside of computer science, such as in health, business, or sports. Exspecially considering only 223 students are computer science majors out of the 620 students that took the survey. While they scored interest only a little lower that could easily be changed by using examples that those students feel with apply to their future careers and interests better. \n",
    "\n",
    "This idea could be explored further by comparing grades of students who are computer science majors and non majors and see if the grades on average change when implementing a exercise focused on health for example. Or see if interest levels really do correspond to better grades, as then interest level would be a much more inportant factor to consider. Also breaking down the idea further into which major specifically scored COMP110 on average as most interesting, and whoch scored it the lowest to see whoch students you should be targetting about increasing interest. \n",
    "\n",
    "The potenial trade-off is doing exercises of interest to non-majors may mean that there will be a loss of interest in majors, but that is why it is important to find balance where some examples and exercises are of interest to each group, which can be challenging to do. "
   ]
  }
 ],
 "metadata": {
  "interpreter": {
   "hash": "aee8b7b246df8f9039afb4144a1f6fd8d2ca17a180786b69acc140d282b71a49"
  },
  "kernelspec": {
   "display_name": "Python 3.10.2 64-bit",
   "language": "python",
   "name": "python3"
  },
  "language_info": {
   "codemirror_mode": {
    "name": "ipython",
    "version": 3
   },
   "file_extension": ".py",
   "mimetype": "text/x-python",
   "name": "python",
   "nbconvert_exporter": "python",
   "pygments_lexer": "ipython3",
   "version": "3.10.1"
  },
  "orig_nbformat": 4
 },
 "nbformat": 4,
 "nbformat_minor": 2
}
