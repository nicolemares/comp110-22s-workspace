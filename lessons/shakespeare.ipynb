{
 "cells": [
  {
   "cell_type": "markdown",
   "metadata": {},
   "source": [
    "# Quantifying Shakepeare\n",
    "\n",
    "In this notebook we will find the frequencies with which shakespeare's words used letters."
   ]
  },
  {
   "cell_type": "code",
   "execution_count": 6,
   "metadata": {},
   "outputs": [
    {
     "name": "stdout",
     "output_type": "stream",
     "text": [
      "114840\n",
      "o, that sad breath his spongy lungs bestowed,\n"
     ]
    }
   ],
   "source": [
    "from io import TextIOWrapper\n",
    "def read_file(filename: str) -> list[str]:\n",
    "    \"\"\"Given the name of a file, return a list of its lines.\"\"\"\n",
    "    lines: list[str] = []\n",
    "    file: TextIOWrapper = open(filename, \"r\", encoding=\"utf8\")\n",
    "    for line in file:\n",
    "        line = line.strip()\n",
    "        line = line.lower()\n",
    "        if line != \"\":\n",
    "            lines.append(line)\n",
    "    return lines\n",
    "\n",
    "shakespeare_lines: list[str] = read_file(\"./shakespeare.txt\")\n",
    "print(len(shakespeare_lines))\n",
    "print(shakespeare_lines[246-260])\n"
   ]
  },
  {
   "cell_type": "markdown",
   "metadata": {},
   "source": [
    "The next step of our analysis is to count the letters in the lines list one-by-one to find the fequency of use of each letter."
   ]
  },
  {
   "cell_type": "code",
   "execution_count": 1,
   "metadata": {},
   "outputs": [
    {
     "ename": "NameError",
     "evalue": "name 'shakespeare_lines' is not defined",
     "output_type": "error",
     "traceback": [
      "\u001b[0;31m---------------------------------------------------------------------------\u001b[0m",
      "\u001b[0;31mNameError\u001b[0m                                 Traceback (most recent call last)",
      "\u001b[1;32m/Users/nicolemares/comp110-22s-workspace/lessons/shakespeare.ipynb Cell 4'\u001b[0m in \u001b[0;36m<cell line: 24>\u001b[0;34m()\u001b[0m\n\u001b[1;32m     <a href='vscode-notebook-cell:/Users/nicolemares/comp110-22s-workspace/lessons/shakespeare.ipynb#ch0000003?line=20'>21</a>\u001b[0m                 tally(counts, char)\n\u001b[1;32m     <a href='vscode-notebook-cell:/Users/nicolemares/comp110-22s-workspace/lessons/shakespeare.ipynb#ch0000003?line=21'>22</a>\u001b[0m     \u001b[39mreturn\u001b[39;00m counts\n\u001b[0;32m---> <a href='vscode-notebook-cell:/Users/nicolemares/comp110-22s-workspace/lessons/shakespeare.ipynb#ch0000003?line=23'>24</a>\u001b[0m shakespeare_letters: \u001b[39mdict\u001b[39m[\u001b[39mstr\u001b[39m, \u001b[39mint\u001b[39m] \u001b[39m=\u001b[39m count_letters(shakespeare_lines)\n\u001b[1;32m     <a href='vscode-notebook-cell:/Users/nicolemares/comp110-22s-workspace/lessons/shakespeare.ipynb#ch0000003?line=24'>25</a>\u001b[0m \u001b[39mprint\u001b[39m(shakespeare_letters)\n",
      "\u001b[0;31mNameError\u001b[0m: name 'shakespeare_lines' is not defined"
     ]
    }
   ],
   "source": [
    "# Goal: Define a function named tally\n",
    "# Give the function (as paramss) a dictionary reference(key: str, value: int) and a key\n",
    "# If the key is in the dictionary, increase value by 1\n",
    "# Otherwise, set key value to 1\n",
    "# It is a procedure and return None\n",
    "\n",
    "def tally(counts: dict[str, int], key: str) -> None:\n",
    "    \"\"\"Mutate counts to increment a key by 1 if it exists, or initalize it to 1.\"\"\"\n",
    "    if key in counts:\n",
    "        counts[key] += 1\n",
    "    else:\n",
    "        counts[key] = 1\n",
    "\n",
    "\n",
    "def count_letters(lines: list[str]) -> dict[str, int]:\n",
    "    \"\"\"Count frequency of all letters in a list of strings.\"\"\"\n",
    "    counts: dict[str, int] = {}\n",
    "    for line in lines:\n",
    "        for char in line:\n",
    "            if char >= 'a' and char <= 'z':\n",
    "                tally(counts, char)\n",
    "    return counts\n",
    "\n",
    "shakespeare_letters: dict[str, int] = count_letters(shakespeare_lines)\n",
    "print(shakespeare_letters)"
   ]
  },
  {
   "cell_type": "markdown",
   "metadata": {},
   "source": [
    "Let's create a visualization of the data with a bar chart."
   ]
  },
  {
   "cell_type": "code",
   "execution_count": null,
   "metadata": {},
   "outputs": [],
   "source": [
    "items_in_dict: list[tuple[str, int]] = list(shakespeare_letters.items())\n",
    "print(items_in_dict)"
   ]
  },
  {
   "cell_type": "code",
   "execution_count": 2,
   "metadata": {},
   "outputs": [
    {
     "ename": "ModuleNotFoundError",
     "evalue": "No module named 'matplotlib'",
     "output_type": "error",
     "traceback": [
      "\u001b[0;31m---------------------------------------------------------------------------\u001b[0m",
      "\u001b[0;31mModuleNotFoundError\u001b[0m                       Traceback (most recent call last)",
      "\u001b[1;32m/Users/nicolemares/comp110-22s-workspace/lessons/shakespeare.ipynb Cell 6'\u001b[0m in \u001b[0;36m<cell line: 1>\u001b[0;34m()\u001b[0m\n\u001b[0;32m----> <a href='vscode-notebook-cell:/Users/nicolemares/comp110-22s-workspace/lessons/shakespeare.ipynb#ch0000004?line=0'>1</a>\u001b[0m \u001b[39mfrom\u001b[39;00m \u001b[39mmatplotlib\u001b[39;00m \u001b[39mimport\u001b[39;00m pyplot\n\u001b[1;32m      <a href='vscode-notebook-cell:/Users/nicolemares/comp110-22s-workspace/lessons/shakespeare.ipynb#ch0000004?line=2'>3</a>\u001b[0m pyplot\u001b[39m.\u001b[39mtitle(\u001b[39m\"\u001b[39m\u001b[39mFrequencies of Letter\u001b[39m\u001b[39m\"\u001b[39m)\n\u001b[1;32m      <a href='vscode-notebook-cell:/Users/nicolemares/comp110-22s-workspace/lessons/shakespeare.ipynb#ch0000004?line=3'>4</a>\u001b[0m pyplot\u001b[39m.\u001b[39mxlabel(\u001b[39m\"\u001b[39m\u001b[39mLetters\u001b[39m\u001b[39m\"\u001b[39m)\n",
      "\u001b[0;31mModuleNotFoundError\u001b[0m: No module named 'matplotlib'"
     ]
    }
   ],
   "source": [
    "from matplotlib import pyplot\n",
    "\n",
    "pyplot.title(\"Frequencies of Letter\")\n",
    "pyplot.xlabel(\"Letters\")\n",
    "pyplot.ylabel(\"Frequencies\")\n",
    "labels: list[str] = list(shakespeare_letters.keys())\n",
    "values: list[int] = list(shakespeare_letters.values())\n",
    "pyplot.bar(labels, values)"
   ]
  },
  {
   "cell_type": "code",
   "execution_count": null,
   "metadata": {},
   "outputs": [],
   "source": []
  }
 ],
 "metadata": {
  "interpreter": {
   "hash": "aee8b7b246df8f9039afb4144a1f6fd8d2ca17a180786b69acc140d282b71a49"
  },
  "kernelspec": {
   "display_name": "Python 3.10.1 64-bit",
   "language": "python",
   "name": "python3"
  },
  "language_info": {
   "codemirror_mode": {
    "name": "ipython",
    "version": 3
   },
   "file_extension": ".py",
   "mimetype": "text/x-python",
   "name": "python",
   "nbconvert_exporter": "python",
   "pygments_lexer": "ipython3",
   "version": "3.10.1"
  },
  "orig_nbformat": 4
 },
 "nbformat": 4,
 "nbformat_minor": 2
}
